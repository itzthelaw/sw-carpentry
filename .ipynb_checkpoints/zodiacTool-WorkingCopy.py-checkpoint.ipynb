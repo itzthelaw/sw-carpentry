{
 "cells": [
  {
   "cell_type": "code",
   "execution_count": 69,
   "metadata": {
    "collapsed": false
   },
   "outputs": [
    {
     "name": "stdout",
     "output_type": "stream",
     "text": [
      "['Rat\\n', 'Ox\\n', 'Tiger\\n', 'Rabbit\\n', 'Dragon\\n', 'Snake\\n', 'Horse\\n', 'Goat\\n', 'Monkey\\n', 'Rooster\\n', 'Dog\\n', 'Pig\\n']\n",
      "What year were you born? 24.0\n",
      "You did not provide a year in the form of an integer\n"
     ]
    }
   ],
   "source": [
    "# Here we are going to plan the program\n",
    "\n",
    "# Open the zodiac descriptions file\n",
    "ZodiacText = open('zodiacDescriptions.txt','r')\n",
    "#for line in ZodiacText:\n",
    "#    print (line)\n",
    "\n",
    "# Read the file. We are going to make a list with each line of the file\n",
    "# as a list item\n",
    "ZodiacList = []\n",
    "for line in ZodiacText: \n",
    "    ZodiacList.append(line)\n",
    "    \n",
    "print(ZodiacList)\n",
    "\n",
    "# Ask the user for input\n",
    "# We're Just going to assign a variable for moment. Come back later.\n",
    "\n",
    "try: \n",
    "    birthYear = int(input(\"What year were you born? \"))\n",
    "    # Do some fancy figuring stuff out (little bit of math)\n",
    "    zodiacIndex = (birthYear-4) % 12\n",
    "    # Tell user the result\n",
    "    print(\"Your Chinese Zodiac Animal is a \", ZodiacList[zodiacIndex])\n",
    "\n",
    "except ValueError:\n",
    "    print(\"You did not provide a year in the form of an integer\")\n",
    "\n",
    "\n",
    "# Repeat\n",
    "\n",
    "# Close the file as soon as we are done with it\n",
    "# Although in this case the end would be okay too\n",
    "ZodiacText.close()\n"
   ]
  },
  {
   "cell_type": "code",
   "execution_count": null,
   "metadata": {
    "collapsed": true
   },
   "outputs": [],
   "source": []
  },
  {
   "cell_type": "code",
   "execution_count": null,
   "metadata": {
    "collapsed": true
   },
   "outputs": [],
   "source": []
  },
  {
   "cell_type": "code",
   "execution_count": null,
   "metadata": {
    "collapsed": true
   },
   "outputs": [],
   "source": []
  }
 ],
 "metadata": {
  "kernelspec": {
   "display_name": "Python 3",
   "language": "python",
   "name": "python3"
  },
  "language_info": {
   "codemirror_mode": {
    "name": "ipython",
    "version": 3
   },
   "file_extension": ".py",
   "mimetype": "text/x-python",
   "name": "python",
   "nbconvert_exporter": "python",
   "pygments_lexer": "ipython3",
   "version": "3.4.3"
  }
 },
 "nbformat": 4,
 "nbformat_minor": 0
}
