{
 "cells": [
  {
   "cell_type": "code",
   "execution_count": null,
   "metadata": {
    "collapsed": false
   },
   "outputs": [],
   "source": [
    "# There should be a description here.\n",
    "\n",
    "# ZodiacSetup will do all the opening, loading, and closing of files/data\n",
    "# It will return ZodiacListTemp\n",
    "def ZodiacSetup():\n",
    "    # Open the zodiac descriptions file\n",
    "    ZodiacText = open('zodiacDescriptions.txt','r')\n",
    "\n",
    "    # Read the file. We are going to make a list with each line of the file\n",
    "    # as a list item\n",
    "    ZodiacListTemp = []\n",
    "    for animal in ZodiacText: \n",
    "        if animal != '\\n':\n",
    "            ZodiacListTemp.append(line)\n",
    "        \n",
    "    # Close the file as soon as we are done with it\n",
    "    ZodiacText.close()\n",
    "    \n",
    "    return ZodiacListTemp\n",
    "\n",
    "# ZodiacCalculation will collect a birth year and determine the Chinese zodiac animal and then display it. With error trapping.\n",
    "# It will return the birthYear\n",
    "def ZodiacCalculation():\n",
    "    # Ask the user for input\n",
    "    # We're Just going to assign a variable for moment. Come back later.\n",
    "\n",
    "    try: \n",
    "        birthYear = int(input(\"What year were you born? \"))\n",
    "        # Do some fancy figuring stuff out (little bit of math)\n",
    "        zodiacIndex = (birthYear-4) % 12\n",
    "        # Tell user the result\n",
    "        print(\"Your Chinese Zodiac Animal is a \", ZodiacList[zodiacIndex])\n",
    "\n",
    "    except ValueError:\n",
    "        print(\"You did not provide a year in the form of an integer\")\n",
    "        \n",
    "    return birthYear\n",
    "\n",
    "# Repeat\n",
    "ZodiacList = ZodiacSetup()\n",
    "\n",
    "birthYear = 0\n",
    "while type(birthYear) is int:\n",
    "    birthYear = ZodiacCalculation()"
   ]
  },
  {
   "cell_type": "code",
   "execution_count": null,
   "metadata": {
    "collapsed": true
   },
   "outputs": [],
   "source": []
  },
  {
   "cell_type": "code",
   "execution_count": null,
   "metadata": {
    "collapsed": true
   },
   "outputs": [],
   "source": []
  },
  {
   "cell_type": "code",
   "execution_count": null,
   "metadata": {
    "collapsed": true
   },
   "outputs": [],
   "source": []
  },
  {
   "cell_type": "code",
   "execution_count": null,
   "metadata": {
    "collapsed": true
   },
   "outputs": [],
   "source": []
  },
  {
   "cell_type": "code",
   "execution_count": null,
   "metadata": {
    "collapsed": true
   },
   "outputs": [],
   "source": []
  },
  {
   "cell_type": "code",
   "execution_count": null,
   "metadata": {
    "collapsed": true
   },
   "outputs": [],
   "source": []
  }
 ],
 "metadata": {
  "kernelspec": {
   "display_name": "Python 3",
   "language": "python",
   "name": "python3"
  }
 },
 "nbformat": 4,
 "nbformat_minor": 0
}
